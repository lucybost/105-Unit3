{
 "cells": [
  {
   "cell_type": "markdown",
   "id": "f64e9c86-81b6-44f4-8f95-e4cfeed14b73",
   "metadata": {
    "tags": []
   },
   "source": [
    "# County Health Data Subset "
   ]
  },
  {
   "cell_type": "markdown",
   "id": "5c3f37b7-e479-4ba8-b8bb-5eb537b3cbfb",
   "metadata": {},
   "source": [
    "## Using the Public Health Data Set \n",
    "### Overview \n",
    "#### This notebook will take us trough the steps of exploring the Public Health Data Set to determine particular relationships. \n",
    "- Specifically, we will be deep diving into the relationship between poor mental health days and early deaths within the population of Ney York from 2014-2015. \n",
    "- Using this information, we will determine th4e correlation these two pieces of data have. "
   ]
  },
  {
   "cell_type": "markdown",
   "id": "a2970d5e-71c2-4c85-b4f2-f951e25e2f4a",
   "metadata": {},
   "source": [
    "## Step 1: Finding Data Sets"
   ]
  },
  {
   "cell_type": "markdown",
   "id": "c073ac5c-3758-4578-b9d2-29a28bdd8ff4",
   "metadata": {},
   "source": [
    "### In order to import this data set, you must first download the csv file. \n",
    "- Downloadt the csv file \"CountyHealthData_2014-2015.csv\" from canvas or from 'Awesome Public Data Sets' and save it as a csv file\n",
    "- For easy access, copy this csv file into the folder belonging to this Jupyter Notebook. \n",
    "- You must save this csv file to the same working direcotry as your .ipnb notebook file that you will be using\n",
    "- later you will be able to access this file through relative file paths \n",
    "- The path will be the name of the file if it is located in your working directory "
   ]
  },
  {
   "cell_type": "markdown",
   "id": "ca5f5a6a-ee46-40d3-8f3f-e87f57782d50",
   "metadata": {},
   "source": [
    "## Step 2: Importing Data Sets"
   ]
  },
  {
   "cell_type": "markdown",
   "id": "00b9eae4-c03f-4306-8a35-b79999edeb42",
   "metadata": {},
   "source": [
    " "
   ]
  },
  {
   "cell_type": "markdown",
   "id": "cea987c1-aaad-4287-947a-d56f66a5d33a",
   "metadata": {},
   "source": [
    "#### Import the pandas and numpy packages using the following command. Naming the files in this manner allows for a quicker access, as we can now call functions from pandas with pd. <function> instead of pandas.<function>"
   ]
  },
  {
   "cell_type": "code",
   "execution_count": 29,
   "id": "2249d43e-1214-4895-8599-e477a4e3187b",
   "metadata": {},
   "outputs": [],
   "source": [
    "import pandas as pd \n",
    "import numpy as np "
   ]
  },
  {
   "cell_type": "markdown",
   "id": "e98be2ac-4772-4a71-b13e-fbd4df1b2fa0",
   "metadata": {},
   "source": [
    "## Step 3: Creating a Data Frame "
   ]
  },
  {
   "cell_type": "markdown",
   "id": "aef19b9e-fcba-4fd4-b2fe-34d9f2004ab9",
   "metadata": {
    "tags": []
   },
   "source": [
    "#### To create your own dataframe object you must first define the dataframe as df. To do this we must use the pd.read_csv()function on our data file by inserting the file you want into the parathenses. Because we want the \"CountyHealthData_2014-2015.csv\", that is what we will insert."
   ]
  },
  {
   "cell_type": "code",
   "execution_count": 46,
   "id": "25c31d30-c303-4d9c-bf8f-a54b32971d82",
   "metadata": {
    "tags": []
   },
   "outputs": [
    {
     "data": {
      "text/plain": [
       "'df=pd.read_csv(\"CountyHealthData_2014-2015.csv\"'"
      ]
     },
     "execution_count": 46,
     "metadata": {},
     "output_type": "execute_result"
    }
   ],
   "source": [
    "'df=pd.read_csv(\"CountyHealthData_2014-2015.csv\"'"
   ]
  },
  {
   "cell_type": "markdown",
   "id": "c748b346-0d37-4b56-acfb-83188db5d469",
   "metadata": {},
   "source": [
    "## Step 4: Data Attributes"
   ]
  },
  {
   "cell_type": "markdown",
   "id": "1807ab16-0b2b-4c2e-b79e-887fedc37cd7",
   "metadata": {},
   "source": [
    " "
   ]
  },
  {
   "cell_type": "markdown",
   "id": "41a15909-58be-46d5-8f5b-35cb26019452",
   "metadata": {},
   "source": [
    "#### In order to filter data and narrow down our pool of information we must use functions such as series. In this case we will be using the value counts method to find cateogircal values for the different regions within the data.\n",
    "To do this we must \n",
    "1. enter the file name (df) (because we previously named \"CountyHealthData_2014-2015.csv\" as \"df\", data from this set will pull up \n",
    "2. followed by the category you want to find (Region) \n",
    "3. Next, insert the series .value_counts()"
   ]
  },
  {
   "cell_type": "code",
   "execution_count": 47,
   "id": "e6545e42-b005-4aad-933d-599bdfcf8815",
   "metadata": {},
   "outputs": [
    {
     "data": {
      "text/plain": [
       "'f.Region.value_counts()'"
      ]
     },
     "execution_count": 47,
     "metadata": {},
     "output_type": "execute_result"
    }
   ],
   "source": [
    "'f.Region.value_counts()'"
   ]
  },
  {
   "cell_type": "markdown",
   "id": "97226cd7-92f7-4af3-9780-afc6c719b0b1",
   "metadata": {},
   "source": [
    "## Step 5: Filtering Data "
   ]
  },
  {
   "cell_type": "markdown",
   "id": "552338b3-4d20-4e03-b098-d289a0711a7a",
   "metadata": {},
   "source": [
    "#### With such a large dataframe, we will want to narrow down the colummns or rows to deep dive into specific informatoin. In this case we will be comparing \"poor mental health days\" with \"premature death\" in the Northeast. \n",
    "\n",
    "First, to filter our dataset to only the state of New York, we can logical conditions (baed on true or false), using nested square brackets.\n",
    "\n",
    "For example, \n",
    "\n",
    "The inner statement, df[\"State\"]==\"NY\" looks for a column name and checks if it equals \"NY\"\n",
    "The outer statement df[ ... ] uses the resulting column of True/False values to select rows\n",
    "Together, these two commands call all of the data contained in rows where the value of the State field is equal to \"NY\"\n"
   ]
  },
  {
   "cell_type": "code",
   "execution_count": 49,
   "id": "ac7edacc-cd88-4b68-a7d7-8552b2446e4e",
   "metadata": {},
   "outputs": [
    {
     "data": {
      "text/plain": [
       "'df[df[\"State\"] == \"NY\"'"
      ]
     },
     "execution_count": 49,
     "metadata": {},
     "output_type": "execute_result"
    }
   ],
   "source": [
    "'df[df[\"State\"] == \"NY\"'"
   ]
  },
  {
   "cell_type": "markdown",
   "id": "33596ff8-a3ca-4988-8f22-0dba5e06954c",
   "metadata": {},
   "source": [
    "## Step 6: ### Further Filtering Data"
   ]
  },
  {
   "cell_type": "markdown",
   "id": "fad49f2b-adbd-4747-bbe4-e946eab4262f",
   "metadata": {},
   "source": []
  },
  {
   "cell_type": "markdown",
   "id": "415a518f-89d3-449f-8473-009226f90e38",
   "metadata": {},
   "source": [
    "#### We want to further narrow down this dataframe to the \"year\" \"state\" \"poor mental health days\" with \"premature death\". Becuase of this we must use the .loc attribute to use the column names as a filter.\n",
    "We can see from the previoud filtered dataset that the state of New York occupies rows 3850-3973. \n",
    "Using this information we can further narrow down the columns using the .loc attribute \n",
    "1. insert the df and then the .loc attribute \n",
    "2. follow it with a square bracket and the row numbers you are looking for seperated by a colon [3850:3973]\n",
    "3. Next, add a comma and insert another square bracket with the desired column names enclosed [\"Year\",\"State\",\"Poor mental health days\",\"Premature death\"]\n"
   ]
  },
  {
   "cell_type": "code",
   "execution_count": 55,
   "id": "111227bf-855f-4ebd-9172-09c1fe2e4739",
   "metadata": {},
   "outputs": [
    {
     "data": {
      "text/plain": [
       "'df.loc[3850:3973,[\"Year\",\"State\",\"Poor mental health days\",\"Premature death\"]]'"
      ]
     },
     "execution_count": 55,
     "metadata": {},
     "output_type": "execute_result"
    }
   ],
   "source": [
    "'df.loc[3850:3973,[\"Year\",\"State\",\"Poor mental health days\",\"Premature death\"]]'"
   ]
  },
  {
   "cell_type": "markdown",
   "id": "a3857882-57ad-4e51-9971-8c597b1e0d5e",
   "metadata": {},
   "source": [
    "## Step 8: Exporting NY_subset\n",
    "\n",
    "\n",
    "Once we've finished manipulating our datasets and creating more **usable** or **useful** subsets for further analysis, we can export them as new .csv files, giving us readymade and openly accessible outputs to share with the public on our GitHub repositories.\n",
    "\n"
   ]
  },
  {
   "cell_type": "markdown",
   "id": "2f603f4f-1935-4eff-9876-00e979768056",
   "metadata": {},
   "source": [
    "## Step 9: Exporting File NY_subset to a .csv File "
   ]
  },
  {
   "cell_type": "markdown",
   "id": "296c823f-b6ec-4ea6-8d91-2f844c1c078d",
   "metadata": {},
   "source": [
    "#### This file must be exported into a .csv file for further use\n",
    "We created this subset to have a more narrowed scope of the data we wish to study. By exporting it as a .csv file, we are allowing it to be more accessable and sharable.\n",
    "##### To do this we must use the '.to_csv()'function \n",
    "- the file name will go intbetween the parenthesis\n",
    "\n",
    "For example, our file will look like:\n",
    "- 'NY_subset.to_csv(\"NY_subset\")'\n",
    "\n",
    "Lastly, create a copy of this dataframe with the tool '.copy()'\n",
    "- NY_subset= df.loc[3850:3973,[\"Year\",\"State\",\"Poor mental health days\",\"Premature death\"]].copy()"
   ]
  },
  {
   "cell_type": "code",
   "execution_count": 69,
   "id": "ac03b05b-5d25-4840-83f6-1b6bddb81bd6",
   "metadata": {},
   "outputs": [
    {
     "ename": "SyntaxError",
     "evalue": "invalid syntax (2589622347.py, line 1)",
     "output_type": "error",
     "traceback": [
      "\u001b[0;36m  File \u001b[0;32m\"/var/folders/qj/n4pj_wpd5qsghn5fytvrfdj40000gn/T/ipykernel_31723/2589622347.py\"\u001b[0;36m, line \u001b[0;32m1\u001b[0m\n\u001b[0;31m    ''Y_subset.tocsv(\"NY_subset.csv\")'\u001b[0m\n\u001b[0m      ^\u001b[0m\n\u001b[0;31mSyntaxError\u001b[0m\u001b[0;31m:\u001b[0m invalid syntax\n"
     ]
    }
   ],
   "source": [
    "''Y_subset.tocsv(\"NY_subset.csv\")'\n"
   ]
  },
  {
   "cell_type": "code",
   "execution_count": 57,
   "id": "d9f6cbd1-20f4-4f77-9f82-de80756e9a57",
   "metadata": {},
   "outputs": [
    {
     "ename": "NameError",
     "evalue": "name 'df' is not defined",
     "output_type": "error",
     "traceback": [
      "\u001b[0;31m---------------------------------------------------------------------------\u001b[0m",
      "\u001b[0;31mNameError\u001b[0m                                 Traceback (most recent call last)",
      "\u001b[0;32m/var/folders/qj/n4pj_wpd5qsghn5fytvrfdj40000gn/T/ipykernel_31723/674632103.py\u001b[0m in \u001b[0;36m<module>\u001b[0;34m\u001b[0m\n\u001b[0;32m----> 1\u001b[0;31m \u001b[0mNY_subset\u001b[0m\u001b[0;34m=\u001b[0m \u001b[0mdf\u001b[0m\u001b[0;34m.\u001b[0m\u001b[0mloc\u001b[0m\u001b[0;34m[\u001b[0m\u001b[0;36m3850\u001b[0m\u001b[0;34m:\u001b[0m\u001b[0;36m3973\u001b[0m\u001b[0;34m,\u001b[0m\u001b[0;34m[\u001b[0m\u001b[0;34m\"Year\"\u001b[0m\u001b[0;34m,\u001b[0m\u001b[0;34m\"State\"\u001b[0m\u001b[0;34m,\u001b[0m\u001b[0;34m\"Poor mental health days\"\u001b[0m\u001b[0;34m,\u001b[0m\u001b[0;34m\"Premature death\"\u001b[0m\u001b[0;34m]\u001b[0m\u001b[0;34m]\u001b[0m\u001b[0;34m.\u001b[0m\u001b[0mcopy\u001b[0m\u001b[0;34m(\u001b[0m\u001b[0;34m)\u001b[0m\u001b[0;34m\u001b[0m\u001b[0;34m\u001b[0m\u001b[0m\n\u001b[0m",
      "\u001b[0;31mNameError\u001b[0m: name 'df' is not defined"
     ]
    }
   ],
   "source": [
    "NY_subset= df.loc[3850:3973,[\"Year\",\"State\",\"Poor mental health days\",\"Premature death\"]].copy()"
   ]
  },
  {
   "cell_type": "code",
   "execution_count": null,
   "id": "4550f5f0-a527-4033-975a-1a44f8176930",
   "metadata": {},
   "outputs": [],
   "source": []
  },
  {
   "cell_type": "code",
   "execution_count": null,
   "id": "f06677bd-69ef-45f8-b1a3-710c69026a8f",
   "metadata": {},
   "outputs": [],
   "source": []
  },
  {
   "cell_type": "code",
   "execution_count": null,
   "id": "b765879c-f304-40c1-9492-3ca8f37d4dfb",
   "metadata": {},
   "outputs": [],
   "source": []
  },
  {
   "cell_type": "code",
   "execution_count": null,
   "id": "d86904f2-d440-4144-960d-9cb104a8e1ee",
   "metadata": {},
   "outputs": [],
   "source": []
  }
 ],
 "metadata": {
  "kernelspec": {
   "display_name": "Python 3 (ipykernel)",
   "language": "python",
   "name": "python3"
  },
  "language_info": {
   "codemirror_mode": {
    "name": "ipython",
    "version": 3
   },
   "file_extension": ".py",
   "mimetype": "text/x-python",
   "name": "python",
   "nbconvert_exporter": "python",
   "pygments_lexer": "ipython3",
   "version": "3.9.13"
  }
 },
 "nbformat": 4,
 "nbformat_minor": 5
}
