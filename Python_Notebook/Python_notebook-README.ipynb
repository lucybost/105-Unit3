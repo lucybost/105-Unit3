{
 "cells": [
  {
   "cell_type": "markdown",
   "id": "7086f5fa-c32b-4612-b65a-fcdfcfe39e12",
   "metadata": {},
   "source": [
    "## README Python Notebook"
   ]
  },
  {
   "cell_type": "markdown",
   "id": "910cd220-23ef-4954-a604-4f40ee62a2a7",
   "metadata": {},
   "source": [
    " ### This file contains a Python notebook written in Jupyter Lab with instructions on how to access data from the files."
   ]
  },
  {
   "cell_type": "markdown",
   "id": "4ddeb4fd-4ec9-46f2-ac31-ee5de874ce3e",
   "metadata": {},
   "source": [
    "#### This notebook gives in depth instructions on how to obtain the new .csv subset from the original CountyHealthData_2014-2015.csv dataset.These instructions contain the coding needed to operate this data, which ultimatley lead to the creation of the NY_subset.csv file. "
   ]
  }
 ],
 "metadata": {
  "kernelspec": {
   "display_name": "Python 3 (ipykernel)",
   "language": "python",
   "name": "python3"
  },
  "language_info": {
   "codemirror_mode": {
    "name": "ipython",
    "version": 3
   },
   "file_extension": ".py",
   "mimetype": "text/x-python",
   "name": "python",
   "nbconvert_exporter": "python",
   "pygments_lexer": "ipython3",
   "version": "3.9.13"
  }
 },
 "nbformat": 4,
 "nbformat_minor": 5
}
